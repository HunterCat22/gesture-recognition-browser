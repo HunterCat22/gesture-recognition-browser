{
 "cells": [
  {
   "cell_type": "markdown",
   "metadata": {},
   "source": [
    "## Data Processing\n",
    "\n",
    "Begins with checking if my GPU is properly connected to tensorflow, as this will greatly impact the development time of the model."
   ]
  },
  {
   "cell_type": "code",
   "execution_count": 3,
   "metadata": {},
   "outputs": [
    {
     "name": "stdout",
     "output_type": "stream",
     "text": [
      "[name: \"/device:CPU:0\"\n",
      "device_type: \"CPU\"\n",
      "memory_limit: 268435456\n",
      "locality {\n",
      "}\n",
      "incarnation: 3912996520300776932\n",
      ", name: \"/device:XLA_CPU:0\"\n",
      "device_type: \"XLA_CPU\"\n",
      "memory_limit: 17179869184\n",
      "locality {\n",
      "}\n",
      "incarnation: 14905280164728991661\n",
      "physical_device_desc: \"device: XLA_CPU device\"\n",
      ", name: \"/device:GPU:0\"\n",
      "device_type: \"GPU\"\n",
      "memory_limit: 4922553139\n",
      "locality {\n",
      "  bus_id: 1\n",
      "  links {\n",
      "  }\n",
      "}\n",
      "incarnation: 8370538739172644783\n",
      "physical_device_desc: \"device: 0, name: GeForce GTX 1060, pci bus id: 0000:01:00.0, compute capability: 6.1\"\n",
      ", name: \"/device:XLA_GPU:0\"\n",
      "device_type: \"XLA_GPU\"\n",
      "memory_limit: 17179869184\n",
      "locality {\n",
      "}\n",
      "incarnation: 3734930455175834959\n",
      "physical_device_desc: \"device: XLA_GPU device\"\n",
      "]\n",
      "Num GPUs Available:  1\n",
      "Current device: /device:GPU:0\n"
     ]
    }
   ],
   "source": [
    "import tensorflow as tf\n",
    "from tensorflow.python.client import device_lib\n",
    "print(device_lib.list_local_devices() )\n",
    "print(\"Num GPUs Available: \", len(tf.config.experimental.list_physical_devices('GPU')))\n",
    "print(\"Current device: {}\".format(tf.test.gpu_device_name()))"
   ]
  },
  {
   "cell_type": "markdown",
   "metadata": {},
   "source": [
    "### Importing Our Image Dataset\n",
    "This data import assumes that this program and the dataset folder **leapGestRecog** lie in the same directory."
   ]
  },
  {
   "cell_type": "code",
   "execution_count": 4,
   "metadata": {},
   "outputs": [],
   "source": [
    "import cv2\n",
    "import numpy as np\n",
    "import os \n",
    "import matplotlib.pyplot as plt\n",
    "import matplotlib.image as mpimg \n",
    "\n",
    "def get_images():\n",
    "    \"\"\"\n",
    "    \n",
    "    Uses cv2, os and numpy to loop through the folder \n",
    "    directories and import all images and their labels into numpy arrays X and Y.\n",
    "    \n",
    "    Output\n",
    "    -----\n",
    "    X: images\n",
    "        type numpy.array\n",
    "    Y: labels\n",
    "        type numpy.array\n",
    "        \n",
    "    \"\"\"\n",
    "    \n",
    "    base = 'leapGestRecog'\n",
    "    if os.path.lexists(os.path.join(os.getcwd(), 'leapGestRecog')):\n",
    "        directory = os.listdir(base)\n",
    "\n",
    "    X = []\n",
    "    Y =[]\n",
    "    for item in directory:\n",
    "        base = 'leapGestRecog'\n",
    "        path =  base + '/' + item\n",
    "        files = os.listdir(path)\n",
    "        for file in files:\n",
    " \n",
    "            next_path =  path + '/' + file\n",
    "            image_paths = os.listdir(next_path)\n",
    "\n",
    "            for image in image_paths:\n",
    "                final_path = next_path + '/' + image\n",
    "                img =cv2.imread(final_path, 0)\n",
    "                img = cv2.resize(img, (320, 120))\n",
    "                X.append(img)\n",
    "\n",
    "                label = final_path.split('/')[2].split(\"_\")[1]\n",
    "             \n",
    "                Y.append(label)\n",
    "    X = np.array(X, dtype=\"uint8\")\n",
    "    X = X.reshape(len(X), 120, 320, 1) # Needed to reshape so CNN knows it's different images\n",
    "    Y = np.array(Y)\n",
    "    print(\"Images loaded: \", len(X))\n",
    "    print(\"Labels loaded: \", len(Y))\n",
    "    \n",
    "    return X,Y\n"
   ]
  },
  {
   "cell_type": "code",
   "execution_count": 5,
   "metadata": {},
   "outputs": [],
   "source": [
    "def process_Y(Y):\n",
    "    class_names = list(np.unique(Y))\n",
    "    for item in class_names:\n",
    "        print(item, \": \", len(np.where(Y == item)[0]))\n",
    "    for i,item in enumerate(Y):\n",
    "        if item in class_names:\n",
    "            Y[i] = int(class_names.index(item)) \n",
    "    Y =  np.array(Y, dtype=\"uint8\")\n",
    "    return class_names, Y"
   ]
  },
  {
   "cell_type": "code",
   "execution_count": 6,
   "metadata": {},
   "outputs": [
    {
     "name": "stdout",
     "output_type": "stream",
     "text": [
      "Successfully loaded in the data WITH train-test split\n"
     ]
    }
   ],
   "source": [
    "try:\n",
    "\n",
    "    x_train =np.load(\"x_train.npy\")\n",
    "    y_train = np.load(\"y_train.npy\")\n",
    "    x_test = np.load(\"x_test.npy\")\n",
    "    y_test = np.load(\"y_test.npy\")\n",
    "    class_names = np.load(\"class_names.npy\")\n",
    "    print(\"Successfully loaded in the data WITH train-test split\")\n",
    "    \n",
    "except:\n",
    "    print(\"Failed to load pickled dataset WITH train-test split\")\n",
    "    \n",
    "    try:\n",
    "    \n",
    "        X = np.load('images.npy')\n",
    "        Y = np.load('labels.npy')\n",
    "        class_names = np.load('class_names.npy')\n",
    "        print(\"Loaded X (inputs) and Y (labels)\")\n",
    "        \n",
    "    except:\n",
    "        print(\"Failed to load pickled dataset WITHOUT train-test split\")\n",
    "        X,Y = get_images()\n",
    "        class_names, Y = process_Y(Y)\n",
    "        \n",
    "        np.save(\"images.npy\",X)\n",
    "        np.save(\"labels.npy\",Y)\n",
    "        np.save(\"class_names.npy\", class_names)\n",
    "        print(\"Computed New X and Y values\")\n"
   ]
  },
  {
   "cell_type": "code",
   "execution_count": 8,
   "metadata": {},
   "outputs": [
    {
     "data": {
      "text/plain": [
       "(['c', 'fist', 'index', 'l', 'ok', 'palm', 'thumb'], [0, 1, 2, 3, 4, 5, 6])"
      ]
     },
     "execution_count": 8,
     "metadata": {},
     "output_type": "execute_result"
    }
   ],
   "source": [
    "list(class_names), list(np.unique(y_train))"
   ]
  },
  {
   "cell_type": "markdown",
   "metadata": {},
   "source": [
    "#### Checking the first element of our input array:"
   ]
  },
  {
   "cell_type": "code",
   "execution_count": 9,
   "metadata": {},
   "outputs": [],
   "source": [
    "def split_the_data(X, Y):   \n",
    "    \n",
    "    X = X/255.0  ## normalize X array\n",
    "    x_train, x_test = (X[:int(len(X)*0.8), ]), (X[int(len(X)*0.8):, ])\n",
    "    y_train, y_test = (Y[:int(len(Y)*0.8), ]), (Y[int(len(Y)*0.8):, ])\n",
    "    np.save(\"x_train.npy\",x_train)\n",
    "    np.save(\"y_train.npy\",y_train)\n",
    "    np.save(\"x_test.npy\",x_test)\n",
    "    np.save(\"y_test.npy\",y_test)\n",
    "    return x_train, x_test, y_train, y_test"
   ]
  },
  {
   "cell_type": "code",
   "execution_count": 10,
   "metadata": {
    "scrolled": true
   },
   "outputs": [
    {
     "data": {
      "image/png": "[encoded data removed]",
      "text/plain": [
       "<Figure size 432x288 with 1 Axes>"
      ]
     },
     "metadata": {
      "needs_background": "light"
     },
     "output_type": "display_data"
    },
    {
     "name": "stdout",
     "output_type": "stream",
     "text": [
      "palm\n"
     ]
    }
   ],
   "source": [
    "def plot_image(image, label):\n",
    "    image = image.reshape((120,320))\n",
    "    plt.imshow(image)\n",
    "    plt.show()\n",
    "    print(label)\n",
    "\n",
    "try:\n",
    "    x_train, x_test, y_train, y_test = split_the_data(X, Y)\n",
    "    del X,Y # delete X and Y from memory\n",
    "    plot_image(x_train[0], class_names[y_train[0]])\n",
    "except:\n",
    "    try:\n",
    "        plot_image(x_train[0],class_names[y_train[0]])\n",
    "    except:\n",
    "        pass"
   ]
  },
  {
   "cell_type": "code",
   "execution_count": 11,
   "metadata": {},
   "outputs": [
    {
     "data": {
      "image/png": "[encoded data removed]",
      "text/plain": [
       "<Figure size 432x288 with 1 Axes>"
      ]
     },
     "metadata": {
      "needs_background": "light"
     },
     "output_type": "display_data"
    },
    {
     "name": "stdout",
     "output_type": "stream",
     "text": [
      "l\n"
     ]
    }
   ],
   "source": [
    "plot_image(x_train[200], class_names[y_train[200]])"
   ]
  },
  {
   "cell_type": "code",
   "execution_count": 12,
   "metadata": {
    "scrolled": true
   },
   "outputs": [
    {
     "data": {
      "text/plain": [
       "((11200, 120, 320, 1), (11200,), (2800, 120, 320, 1), (2800,))"
      ]
     },
     "execution_count": 12,
     "metadata": {},
     "output_type": "execute_result"
    }
   ],
   "source": [
    "#x_train, x_test = tf.convert_to_tensor(x_train), tf.convert_to_tensor(x_test)\n",
    "#y_train, y_test = tf.convert_to_tensor(y_train), tf.convert_to_tensor(y_test) \n",
    "x_train.shape, y_train.shape,  x_test.shape, y_test.shape"
   ]
  },
  {
   "cell_type": "code",
   "execution_count": 13,
   "metadata": {},
   "outputs": [],
   "source": [
    "from tensorflow.keras import datasets, layers, models"
   ]
  },
  {
   "cell_type": "code",
   "execution_count": 14,
   "metadata": {},
   "outputs": [],
   "source": [
    "def build_model():\n",
    "    model = models.Sequential()\n",
    "    model.add(layers.Conv2D(32, (50, 50), activation='relu', input_shape=(120, 320, 1)))\n",
    "    model.add(layers.MaxPooling2D((2, 2)))\n",
    "    model.add(layers.Conv2D(16, (25, 25), activation='relu', kernel_regularizer='l2'))\n",
    "    model.add(layers.Dropout(0.2))\n",
    "    model.add(layers.MaxPooling2D((3, 3)))\n",
    "\n",
    "    model.add(layers.Flatten())\n",
    "    model.add(layers.Dense(64, activation='relu', kernel_regularizer='l2'))\n",
    "    model.add(layers.Dropout(0.2))\n",
    "    model.add(layers.Dense(32, activation='relu'))\n",
    "    model.add(layers.Dense(7))\n",
    "\n",
    "    model.compile(optimizer='adam',\n",
    "                  loss=tf.keras.losses.SparseCategoricalCrossentropy(from_logits=True),\n",
    "                  metrics=['accuracy'] )\n",
    "    return model"
   ]
  },
  {
   "cell_type": "code",
   "execution_count": 19,
   "metadata": {
    "scrolled": true
   },
   "outputs": [],
   "source": [
    "def fit(model, epochs):\n",
    "    history = model.fit(x_train, y_train, validation_data = (x_test,y_test), epochs=epochs, verbose = 1)\n",
    "    return history"
   ]
  },
  {
   "cell_type": "code",
   "execution_count": 20,
   "metadata": {},
   "outputs": [
    {
     "name": "stdout",
     "output_type": "stream",
     "text": [
      "Epoch 1/300\n",
      "  2/350 [..............................] - ETA: 1:00 - loss: 4.8189 - accuracy: 0.2188WARNING:tensorflow:Callbacks method `on_train_batch_end` is slow compared to the batch time (batch time: 0.0110s vs `on_train_batch_end` time: 0.1636s). Check your callbacks.\n",
      "350/350 [==============================] - 67s 192ms/step - loss: 0.8545 - accuracy: 0.8500 - val_loss: 1.7197 - val_accuracy: 0.6343\n",
      "Epoch 2/300\n",
      "350/350 [==============================] - 67s 192ms/step - loss: 0.2440 - accuracy: 0.9852 - val_loss: 2.1507 - val_accuracy: 0.7221\n",
      "Epoch 3/300\n",
      "350/350 [==============================] - 68s 194ms/step - loss: 0.2011 - accuracy: 0.9845 - val_loss: 1.6619 - val_accuracy: 0.6614\n",
      "Epoch 4/300\n",
      "350/350 [==============================] - 68s 194ms/step - loss: 0.1728 - accuracy: 0.9877 - val_loss: 1.8017 - val_accuracy: 0.7521\n",
      "Epoch 5/300\n",
      "350/350 [==============================] - 68s 194ms/step - loss: 0.1285 - accuracy: 0.9906 - val_loss: 1.7148 - val_accuracy: 0.7039\n",
      "Epoch 6/300\n",
      "350/350 [==============================] - 69s 196ms/step - loss: 0.1448 - accuracy: 0.9898 - val_loss: 1.4180 - val_accuracy: 0.7546\n",
      "Epoch 7/300\n",
      "350/350 [==============================] - 73s 207ms/step - loss: 0.1486 - accuracy: 0.9894 - val_loss: 1.4134 - val_accuracy: 0.6850\n",
      "Epoch 8/300\n",
      "350/350 [==============================] - 76s 218ms/step - loss: 0.1286 - accuracy: 0.9920 - val_loss: 1.1649 - val_accuracy: 0.7836\n",
      "Epoch 9/300\n",
      "350/350 [==============================] - 78s 222ms/step - loss: 0.1170 - accuracy: 0.9929 - val_loss: 1.1197 - val_accuracy: 0.6793\n",
      "Epoch 10/300\n",
      "350/350 [==============================] - 80s 229ms/step - loss: 0.1255 - accuracy: 0.9915 - val_loss: 1.3582 - val_accuracy: 0.6975\n",
      "Epoch 11/300\n",
      "350/350 [==============================] - 83s 236ms/step - loss: 0.1396 - accuracy: 0.9871 - val_loss: 1.7403 - val_accuracy: 0.7296\n",
      "Epoch 12/300\n",
      "350/350 [==============================] - 84s 240ms/step - loss: 0.1239 - accuracy: 0.9946 - val_loss: 1.8624 - val_accuracy: 0.6893\n",
      "Epoch 13/300\n",
      "350/350 [==============================] - 84s 240ms/step - loss: 0.0975 - accuracy: 0.9946 - val_loss: 2.1351 - val_accuracy: 0.7029\n",
      "Epoch 14/300\n",
      "350/350 [==============================] - 83s 236ms/step - loss: 0.1586 - accuracy: 0.9896 - val_loss: 2.6658 - val_accuracy: 0.7329\n",
      "Epoch 15/300\n",
      "350/350 [==============================] - 85s 242ms/step - loss: 0.1129 - accuracy: 0.9942 - val_loss: 1.1652 - val_accuracy: 0.7343\n",
      "Epoch 16/300\n",
      "350/350 [==============================] - 85s 242ms/step - loss: 0.1295 - accuracy: 0.9879 - val_loss: 2.5979 - val_accuracy: 0.7732\n",
      "Epoch 17/300\n",
      "350/350 [==============================] - 85s 244ms/step - loss: 0.1443 - accuracy: 0.9936 - val_loss: 1.8791 - val_accuracy: 0.6589\n",
      "Epoch 18/300\n",
      "350/350 [==============================] - 85s 243ms/step - loss: 0.1139 - accuracy: 0.9958 - val_loss: 1.7315 - val_accuracy: 0.7075\n",
      "Epoch 19/300\n",
      "350/350 [==============================] - 86s 246ms/step - loss: 0.0963 - accuracy: 0.9950 - val_loss: 2.0336 - val_accuracy: 0.7275\n",
      "Epoch 20/300\n",
      "350/350 [==============================] - 87s 249ms/step - loss: 0.1511 - accuracy: 0.9891 - val_loss: 2.2224 - val_accuracy: 0.6839\n",
      "Epoch 21/300\n",
      "350/350 [==============================] - 86s 244ms/step - loss: 0.1447 - accuracy: 0.9937 - val_loss: 1.8017 - val_accuracy: 0.7539\n",
      "Epoch 22/300\n",
      "350/350 [==============================] - 87s 248ms/step - loss: 0.1277 - accuracy: 0.9942 - val_loss: 2.1483 - val_accuracy: 0.7879\n",
      "Epoch 23/300\n",
      "350/350 [==============================] - 86s 246ms/step - loss: 0.0745 - accuracy: 0.9973 - val_loss: 2.4826 - val_accuracy: 0.7157\n",
      "Epoch 24/300\n",
      "350/350 [==============================] - 86s 247ms/step - loss: 0.0854 - accuracy: 0.9971 - val_loss: 3.3580 - val_accuracy: 0.6368\n",
      "Epoch 25/300\n",
      "350/350 [==============================] - 85s 244ms/step - loss: 0.1581 - accuracy: 0.9882 - val_loss: 1.9472 - val_accuracy: 0.7639\n",
      "Epoch 26/300\n",
      "350/350 [==============================] - 86s 245ms/step - loss: 0.1343 - accuracy: 0.9944 - val_loss: 3.2842 - val_accuracy: 0.6386\n",
      "Epoch 27/300\n",
      "350/350 [==============================] - 86s 246ms/step - loss: 0.1190 - accuracy: 0.9946 - val_loss: 2.5781 - val_accuracy: 0.6771\n",
      "Epoch 28/300\n",
      "350/350 [==============================] - 85s 243ms/step - loss: 0.0782 - accuracy: 0.9973 - val_loss: 2.5115 - val_accuracy: 0.7146\n",
      "Epoch 29/300\n",
      "350/350 [==============================] - 85s 244ms/step - loss: 0.1226 - accuracy: 0.9925 - val_loss: 2.4443 - val_accuracy: 0.6393\n",
      "Epoch 30/300\n",
      "350/350 [==============================] - 87s 247ms/step - loss: 0.0809 - accuracy: 0.9969 - val_loss: 1.3362 - val_accuracy: 0.7050\n",
      "Epoch 31/300\n",
      "350/350 [==============================] - 85s 244ms/step - loss: 0.0947 - accuracy: 0.9947 - val_loss: 2.1887 - val_accuracy: 0.7118\n",
      "Epoch 32/300\n",
      "350/350 [==============================] - 85s 244ms/step - loss: 0.1247 - accuracy: 0.9917 - val_loss: 2.3802 - val_accuracy: 0.6764\n",
      "Epoch 33/300\n",
      "350/350 [==============================] - 86s 247ms/step - loss: 0.0908 - accuracy: 0.9972 - val_loss: 2.1319 - val_accuracy: 0.7350\n",
      "Epoch 34/300\n",
      "350/350 [==============================] - 85s 244ms/step - loss: 0.1047 - accuracy: 0.9938 - val_loss: 2.0872 - val_accuracy: 0.6725\n",
      "Epoch 35/300\n",
      "350/350 [==============================] - 85s 244ms/step - loss: 0.0834 - accuracy: 0.9974 - val_loss: 2.1916 - val_accuracy: 0.6886\n",
      "Epoch 36/300\n",
      "350/350 [==============================] - 86s 247ms/step - loss: 0.0972 - accuracy: 0.9949 - val_loss: 2.5386 - val_accuracy: 0.7300\n",
      "Epoch 37/300\n",
      "350/350 [==============================] - 87s 247ms/step - loss: 0.1089 - accuracy: 0.9937 - val_loss: 2.0575 - val_accuracy: 0.7171\n",
      "Epoch 38/300\n",
      "350/350 [==============================] - 86s 244ms/step - loss: 0.1397 - accuracy: 0.9940 - val_loss: 2.1795 - val_accuracy: 0.7521\n",
      "Epoch 39/300\n",
      "350/350 [==============================] - 85s 244ms/step - loss: 0.0958 - accuracy: 0.9958 - val_loss: 2.2017 - val_accuracy: 0.7011\n",
      "Epoch 40/300\n",
      "350/350 [==============================] - 86s 247ms/step - loss: 0.0630 - accuracy: 0.9988 - val_loss: 1.5780 - val_accuracy: 0.7721\n",
      "Epoch 41/300\n",
      "350/350 [==============================] - 85s 242ms/step - loss: 0.1172 - accuracy: 0.9914 - val_loss: 2.0460 - val_accuracy: 0.7518\n",
      "Epoch 42/300\n",
      "350/350 [==============================] - 86s 247ms/step - loss: 0.1073 - accuracy: 0.9961 - val_loss: 1.2787 - val_accuracy: 0.7279\n",
      "Epoch 43/300\n",
      "350/350 [==============================] - 85s 244ms/step - loss: 0.1129 - accuracy: 0.9938 - val_loss: 1.7135 - val_accuracy: 0.7254\n",
      "Epoch 44/300\n",
      "350/350 [==============================] - 86s 247ms/step - loss: 0.0688 - accuracy: 0.9971 - val_loss: 2.8539 - val_accuracy: 0.6368\n",
      "Epoch 45/300\n",
      "350/350 [==============================] - 86s 244ms/step - loss: 0.1372 - accuracy: 0.9912 - val_loss: 1.9572 - val_accuracy: 0.7011\n",
      "Epoch 46/300\n",
      "350/350 [==============================] - 85s 243ms/step - loss: 0.1310 - accuracy: 0.9945 - val_loss: 1.6261 - val_accuracy: 0.7518\n",
      "Epoch 47/300\n",
      "350/350 [==============================] - 86s 247ms/step - loss: 0.0695 - accuracy: 0.9978 - val_loss: 1.4636 - val_accuracy: 0.7400\n",
      "Epoch 48/300\n",
      "350/350 [==============================] - 85s 244ms/step - loss: 0.0706 - accuracy: 0.9964 - val_loss: 1.5470 - val_accuracy: 0.7404\n",
      "Epoch 49/300\n",
      "350/350 [==============================] - 86s 247ms/step - loss: 0.1049 - accuracy: 0.9926 - val_loss: 2.0456 - val_accuracy: 0.7221\n",
      "Epoch 50/300\n",
      "350/350 [==============================] - 88s 251ms/step - loss: 0.0818 - accuracy: 0.9972 - val_loss: 1.5302 - val_accuracy: 0.6275\n",
      "Epoch 51/300\n",
      "350/350 [==============================] - 88s 251ms/step - loss: 0.1290 - accuracy: 0.9936 - val_loss: 1.7824 - val_accuracy: 0.7218\n",
      "Epoch 52/300\n",
      "350/350 [==============================] - 87s 248ms/step - loss: 0.0725 - accuracy: 0.9955 - val_loss: 1.3583 - val_accuracy: 0.7004\n",
      "Epoch 53/300\n",
      "350/350 [==============================] - 87s 248ms/step - loss: 0.0751 - accuracy: 0.9971 - val_loss: 1.6447 - val_accuracy: 0.6539\n",
      "Epoch 54/300\n",
      "350/350 [==============================] - 87s 247ms/step - loss: 0.0913 - accuracy: 0.9954 - val_loss: 1.2009 - val_accuracy: 0.7071\n",
      "Epoch 55/300\n"
     ]
    },
    {
     "name": "stdout",
     "output_type": "stream",
     "text": [
      "350/350 [==============================] - 87s 247ms/step - loss: 0.0971 - accuracy: 0.9960 - val_loss: 1.8611 - val_accuracy: 0.7486\n",
      "Epoch 56/300\n",
      "350/350 [==============================] - 86s 247ms/step - loss: 0.0818 - accuracy: 0.9956 - val_loss: 1.8083 - val_accuracy: 0.6900\n",
      "Epoch 57/300\n",
      "350/350 [==============================] - 85s 243ms/step - loss: 0.0945 - accuracy: 0.9953 - val_loss: 1.3225 - val_accuracy: 0.7504\n",
      "Epoch 58/300\n",
      "350/350 [==============================] - 85s 244ms/step - loss: 0.1087 - accuracy: 0.9935 - val_loss: 2.3603 - val_accuracy: 0.6321\n",
      "Epoch 59/300\n",
      "350/350 [==============================] - 86s 245ms/step - loss: 0.1091 - accuracy: 0.9965 - val_loss: 2.6844 - val_accuracy: 0.7471\n",
      "Epoch 60/300\n",
      "350/350 [==============================] - 86s 246ms/step - loss: 0.1294 - accuracy: 0.9924 - val_loss: 2.5814 - val_accuracy: 0.7132\n",
      "Epoch 61/300\n",
      "350/350 [==============================] - 87s 247ms/step - loss: 0.0905 - accuracy: 0.9965 - val_loss: 1.6606 - val_accuracy: 0.7282\n",
      "Epoch 62/300\n",
      "350/350 [==============================] - 84s 240ms/step - loss: 0.0658 - accuracy: 0.9979 - val_loss: 1.7288 - val_accuracy: 0.7400\n",
      "Epoch 63/300\n",
      "350/350 [==============================] - 85s 244ms/step - loss: 0.1037 - accuracy: 0.9935 - val_loss: 1.8926 - val_accuracy: 0.7104\n",
      "Epoch 64/300\n",
      "350/350 [==============================] - 87s 248ms/step - loss: 0.0977 - accuracy: 0.9957 - val_loss: 2.2809 - val_accuracy: 0.6336\n",
      "Epoch 65/300\n",
      "350/350 [==============================] - 84s 240ms/step - loss: 0.1121 - accuracy: 0.9949 - val_loss: 1.7868 - val_accuracy: 0.7732\n",
      "Epoch 66/300\n",
      "350/350 [==============================] - 85s 244ms/step - loss: 0.0559 - accuracy: 0.9993 - val_loss: 2.9037 - val_accuracy: 0.6646\n",
      "Epoch 67/300\n",
      "350/350 [==============================] - 85s 244ms/step - loss: 0.1010 - accuracy: 0.9934 - val_loss: 1.7345 - val_accuracy: 0.7525\n",
      "Epoch 68/300\n",
      "350/350 [==============================] - 85s 243ms/step - loss: 0.0875 - accuracy: 0.9979 - val_loss: 1.8027 - val_accuracy: 0.7311\n",
      "Epoch 69/300\n",
      "350/350 [==============================] - 85s 244ms/step - loss: 0.1144 - accuracy: 0.9927 - val_loss: 1.6168 - val_accuracy: 0.7175\n",
      "Epoch 70/300\n",
      "350/350 [==============================] - 86s 247ms/step - loss: 0.0803 - accuracy: 0.9971 - val_loss: 1.3451 - val_accuracy: 0.7918\n",
      "Epoch 71/300\n",
      "350/350 [==============================] - 84s 241ms/step - loss: 0.0983 - accuracy: 0.9939 - val_loss: 2.0728 - val_accuracy: 0.6864\n",
      "Epoch 72/300\n",
      "350/350 [==============================] - 85s 244ms/step - loss: 0.0778 - accuracy: 0.9982 - val_loss: 1.6042 - val_accuracy: 0.7157\n",
      "Epoch 73/300\n",
      "350/350 [==============================] - 85s 244ms/step - loss: 0.0579 - accuracy: 0.9971 - val_loss: 1.4887 - val_accuracy: 0.7193\n",
      "Epoch 74/300\n",
      "350/350 [==============================] - 85s 244ms/step - loss: 0.0930 - accuracy: 0.9937 - val_loss: 1.2084 - val_accuracy: 0.7279\n",
      "Epoch 75/300\n",
      "350/350 [==============================] - 84s 240ms/step - loss: 0.1336 - accuracy: 0.9923 - val_loss: 1.3888 - val_accuracy: 0.7607\n",
      "Epoch 76/300\n",
      "350/350 [==============================] - 85s 244ms/step - loss: 0.0991 - accuracy: 0.9981 - val_loss: 1.3636 - val_accuracy: 0.7668\n",
      "Epoch 77/300\n",
      "350/350 [==============================] - 84s 240ms/step - loss: 0.1021 - accuracy: 0.9953 - val_loss: 1.0906 - val_accuracy: 0.7829\n",
      "Epoch 78/300\n",
      "350/350 [==============================] - 85s 243ms/step - loss: 0.1146 - accuracy: 0.9935 - val_loss: 1.5249 - val_accuracy: 0.7864\n",
      "Epoch 79/300\n",
      "350/350 [==============================] - 84s 239ms/step - loss: 0.0733 - accuracy: 0.9982 - val_loss: 1.1068 - val_accuracy: 0.7746\n",
      "Epoch 80/300\n",
      "350/350 [==============================] - 84s 241ms/step - loss: 0.0635 - accuracy: 0.9972 - val_loss: 2.1200 - val_accuracy: 0.6396\n",
      "Epoch 81/300\n",
      "350/350 [==============================] - 85s 244ms/step - loss: 0.1166 - accuracy: 0.9929 - val_loss: 1.3076 - val_accuracy: 0.7643\n",
      "Epoch 82/300\n",
      "350/350 [==============================] - 84s 240ms/step - loss: 0.0767 - accuracy: 0.9971 - val_loss: 1.3641 - val_accuracy: 0.7536\n",
      "Epoch 83/300\n",
      "350/350 [==============================] - 84s 240ms/step - loss: 0.0976 - accuracy: 0.9928 - val_loss: 1.6614 - val_accuracy: 0.7014\n",
      "Epoch 84/300\n",
      "350/350 [==============================] - 84s 240ms/step - loss: 0.1112 - accuracy: 0.9957 - val_loss: 1.5211 - val_accuracy: 0.7318\n",
      "Epoch 85/300\n",
      "350/350 [==============================] - 84s 240ms/step - loss: 0.0735 - accuracy: 0.9987 - val_loss: 1.3404 - val_accuracy: 0.7196\n",
      "Epoch 86/300\n",
      "350/350 [==============================] - 84s 239ms/step - loss: 0.0722 - accuracy: 0.9970 - val_loss: 1.2825 - val_accuracy: 0.7671\n",
      "Epoch 87/300\n",
      "350/350 [==============================] - 84s 240ms/step - loss: 0.0460 - accuracy: 0.9989 - val_loss: 1.2371 - val_accuracy: 0.7839\n",
      "Epoch 88/300\n",
      "350/350 [==============================] - 84s 240ms/step - loss: 0.1254 - accuracy: 0.9922 - val_loss: 2.0616 - val_accuracy: 0.6479\n",
      "Epoch 89/300\n",
      "350/350 [==============================] - 85s 243ms/step - loss: 0.0677 - accuracy: 0.9974 - val_loss: 1.7767 - val_accuracy: 0.7639\n",
      "Epoch 90/300\n",
      "350/350 [==============================] - 85s 242ms/step - loss: 0.0725 - accuracy: 0.9970 - val_loss: 1.7992 - val_accuracy: 0.7414\n",
      "Epoch 91/300\n",
      "350/350 [==============================] - 84s 241ms/step - loss: 0.1063 - accuracy: 0.9939 - val_loss: 1.2999 - val_accuracy: 0.7579\n",
      "Epoch 92/300\n",
      "350/350 [==============================] - 83s 236ms/step - loss: 0.1150 - accuracy: 0.9939 - val_loss: 1.0069 - val_accuracy: 0.8307\n",
      "Epoch 93/300\n",
      "350/350 [==============================] - 84s 240ms/step - loss: 0.0720 - accuracy: 0.9986 - val_loss: 1.3077 - val_accuracy: 0.7829\n",
      "Epoch 94/300\n",
      "350/350 [==============================] - 84s 240ms/step - loss: 0.0865 - accuracy: 0.9954 - val_loss: 1.0971 - val_accuracy: 0.8096\n",
      "Epoch 95/300\n",
      "350/350 [==============================] - 84s 240ms/step - loss: 0.0932 - accuracy: 0.9950 - val_loss: 1.2678 - val_accuracy: 0.8232\n",
      "Epoch 96/300\n",
      "350/350 [==============================] - 85s 244ms/step - loss: 0.0724 - accuracy: 0.9987 - val_loss: 0.8863 - val_accuracy: 0.8393\n",
      "Epoch 97/300\n",
      "350/350 [==============================] - 85s 244ms/step - loss: 0.0958 - accuracy: 0.9941 - val_loss: 1.8936 - val_accuracy: 0.7111\n",
      "Epoch 98/300\n",
      "350/350 [==============================] - 84s 240ms/step - loss: 0.0801 - accuracy: 0.9969 - val_loss: 1.5647 - val_accuracy: 0.7736\n",
      "Epoch 99/300\n",
      "350/350 [==============================] - 84s 240ms/step - loss: 0.0757 - accuracy: 0.9965 - val_loss: 2.4413 - val_accuracy: 0.6471\n",
      "Epoch 100/300\n",
      "350/350 [==============================] - 84s 240ms/step - loss: 0.0744 - accuracy: 0.9970 - val_loss: 1.0494 - val_accuracy: 0.7625\n",
      "Epoch 101/300\n",
      "350/350 [==============================] - 83s 237ms/step - loss: 0.0696 - accuracy: 0.9965 - val_loss: 1.5395 - val_accuracy: 0.7379\n",
      "Epoch 102/300\n",
      "350/350 [==============================] - 84s 241ms/step - loss: 0.0842 - accuracy: 0.9971 - val_loss: 1.2063 - val_accuracy: 0.7693\n",
      "Epoch 103/300\n",
      "350/350 [==============================] - 83s 239ms/step - loss: 0.0867 - accuracy: 0.9956 - val_loss: 1.2088 - val_accuracy: 0.7529\n",
      "Epoch 104/300\n",
      "350/350 [==============================] - 81s 233ms/step - loss: 0.0558 - accuracy: 0.9979 - val_loss: 1.6527 - val_accuracy: 0.7071\n",
      "Epoch 105/300\n",
      "350/350 [==============================] - 83s 236ms/step - loss: 0.0851 - accuracy: 0.9947 - val_loss: 1.7537 - val_accuracy: 0.7700\n",
      "Epoch 106/300\n",
      "350/350 [==============================] - 82s 236ms/step - loss: 0.0712 - accuracy: 0.9979 - val_loss: 1.0935 - val_accuracy: 0.8039\n",
      "Epoch 107/300\n",
      "350/350 [==============================] - 81s 233ms/step - loss: 0.0690 - accuracy: 0.9962 - val_loss: 1.5753 - val_accuracy: 0.7911\n",
      "Epoch 108/300\n",
      "350/350 [==============================] - 83s 236ms/step - loss: 0.0634 - accuracy: 0.9974 - val_loss: 1.1938 - val_accuracy: 0.8204\n",
      "Epoch 109/300\n",
      "350/350 [==============================] - 81s 232ms/step - loss: 0.0740 - accuracy: 0.9939 - val_loss: 1.0842 - val_accuracy: 0.7586\n",
      "Epoch 110/300\n",
      "350/350 [==============================] - 83s 236ms/step - loss: 0.0658 - accuracy: 0.9991 - val_loss: 1.2784 - val_accuracy: 0.7704\n"
     ]
    },
    {
     "name": "stdout",
     "output_type": "stream",
     "text": [
      "Epoch 111/300\n",
      "350/350 [==============================] - 83s 236ms/step - loss: 0.1146 - accuracy: 0.9901 - val_loss: 1.7450 - val_accuracy: 0.7979\n",
      "Epoch 112/300\n",
      "350/350 [==============================] - 81s 232ms/step - loss: 0.0730 - accuracy: 0.9987 - val_loss: 1.7561 - val_accuracy: 0.7668\n",
      "Epoch 113/300\n",
      "350/350 [==============================] - 82s 235ms/step - loss: 0.0874 - accuracy: 0.9946 - val_loss: 1.6025 - val_accuracy: 0.8021\n",
      "Epoch 114/300\n",
      "350/350 [==============================] - 81s 233ms/step - loss: 0.0523 - accuracy: 0.9990 - val_loss: 1.6017 - val_accuracy: 0.7475\n",
      "Epoch 115/300\n",
      "350/350 [==============================] - 83s 236ms/step - loss: 0.0806 - accuracy: 0.9952 - val_loss: 1.8692 - val_accuracy: 0.7068\n",
      "Epoch 116/300\n",
      "350/350 [==============================] - 81s 232ms/step - loss: 0.0963 - accuracy: 0.9941 - val_loss: 1.0796 - val_accuracy: 0.7929\n",
      "Epoch 117/300\n",
      "350/350 [==============================] - 83s 236ms/step - loss: 0.0509 - accuracy: 0.9986 - val_loss: 1.4094 - val_accuracy: 0.7514\n",
      "Epoch 118/300\n",
      "350/350 [==============================] - 81s 232ms/step - loss: 0.0667 - accuracy: 0.9967 - val_loss: 1.2581 - val_accuracy: 0.8036\n",
      "Epoch 119/300\n",
      "350/350 [==============================] - 81s 233ms/step - loss: 0.0504 - accuracy: 0.9976 - val_loss: 1.6264 - val_accuracy: 0.7046\n",
      "Epoch 120/300\n",
      "350/350 [==============================] - 82s 236ms/step - loss: 0.0650 - accuracy: 0.9959 - val_loss: 1.9361 - val_accuracy: 0.7211\n",
      "Epoch 121/300\n",
      "350/350 [==============================] - 81s 232ms/step - loss: 0.0785 - accuracy: 0.9967 - val_loss: 1.2544 - val_accuracy: 0.8071\n",
      "Epoch 122/300\n",
      "350/350 [==============================] - 82s 233ms/step - loss: 0.0697 - accuracy: 0.9954 - val_loss: 1.2255 - val_accuracy: 0.8243\n",
      "Epoch 123/300\n",
      "350/350 [==============================] - 81s 232ms/step - loss: 0.0668 - accuracy: 0.9981 - val_loss: 1.3048 - val_accuracy: 0.7575\n",
      "Epoch 124/300\n",
      "350/350 [==============================] - 83s 236ms/step - loss: 0.0579 - accuracy: 0.9980 - val_loss: 1.2940 - val_accuracy: 0.7561\n",
      "Epoch 125/300\n",
      "350/350 [==============================] - 83s 236ms/step - loss: 0.0753 - accuracy: 0.9945 - val_loss: 1.9978 - val_accuracy: 0.7186\n",
      "Epoch 126/300\n",
      "350/350 [==============================] - 84s 240ms/step - loss: 0.0884 - accuracy: 0.9959 - val_loss: 1.1018 - val_accuracy: 0.8207\n",
      "Epoch 127/300\n",
      "350/350 [==============================] - 84s 240ms/step - loss: 0.0588 - accuracy: 0.9977 - val_loss: 1.2271 - val_accuracy: 0.7746\n",
      "Epoch 128/300\n",
      "350/350 [==============================] - 85s 244ms/step - loss: 0.0671 - accuracy: 0.9971 - val_loss: 1.6493 - val_accuracy: 0.7089\n",
      "Epoch 129/300\n",
      "350/350 [==============================] - 85s 243ms/step - loss: 0.0725 - accuracy: 0.9960 - val_loss: 2.1985 - val_accuracy: 0.7018\n",
      "Epoch 130/300\n",
      "350/350 [==============================] - 86s 247ms/step - loss: 0.0795 - accuracy: 0.9968 - val_loss: 1.8237 - val_accuracy: 0.7579\n",
      "Epoch 131/300\n",
      "350/350 [==============================] - 86s 245ms/step - loss: 0.0582 - accuracy: 0.9974 - val_loss: 1.6327 - val_accuracy: 0.7668\n",
      "Epoch 132/300\n",
      "350/350 [==============================] - 87s 247ms/step - loss: 0.0839 - accuracy: 0.9959 - val_loss: 1.8591 - val_accuracy: 0.7004\n",
      "Epoch 133/300\n",
      "350/350 [==============================] - 88s 251ms/step - loss: 0.0501 - accuracy: 0.9981 - val_loss: 1.3452 - val_accuracy: 0.7625\n",
      "Epoch 134/300\n",
      "350/350 [==============================] - 84s 240ms/step - loss: 0.0834 - accuracy: 0.9938 - val_loss: 1.3295 - val_accuracy: 0.7986\n",
      "Epoch 135/300\n",
      "109/350 [========>.....................] - ETA: 49s - loss: 0.0875 - accuracy: 0.9968"
     ]
    },
    {
     "ename": "KeyboardInterrupt",
     "evalue": "",
     "output_type": "error",
     "traceback": [
      "\u001b[1;31m---------------------------------------------------------------------------\u001b[0m",
      "\u001b[1;31mKeyboardInterrupt\u001b[0m                         Traceback (most recent call last)",
      "\u001b[1;32m<ipython-input-20-9c6368948503>\u001b[0m in \u001b[0;36m<module>\u001b[1;34m\u001b[0m\n\u001b[0;32m      1\u001b[0m \u001b[0mcheckpoint_path\u001b[0m \u001b[1;33m=\u001b[0m \u001b[1;34m\"training_1/cp-{epoch:04d}.ckpt\"\u001b[0m\u001b[1;33m.\u001b[0m\u001b[0mformat\u001b[0m\u001b[1;33m(\u001b[0m\u001b[0mepoch\u001b[0m \u001b[1;33m=\u001b[0m \u001b[1;36m300\u001b[0m\u001b[1;33m)\u001b[0m\u001b[1;33m\u001b[0m\u001b[1;33m\u001b[0m\u001b[0m\n\u001b[0;32m      2\u001b[0m \u001b[0mmodel\u001b[0m \u001b[1;33m=\u001b[0m \u001b[0mbuild_model\u001b[0m\u001b[1;33m(\u001b[0m\u001b[1;33m)\u001b[0m\u001b[1;33m\u001b[0m\u001b[1;33m\u001b[0m\u001b[0m\n\u001b[1;32m----> 3\u001b[1;33m \u001b[0mhistory\u001b[0m \u001b[1;33m=\u001b[0m \u001b[0mfit\u001b[0m\u001b[1;33m(\u001b[0m\u001b[0mmodel\u001b[0m\u001b[1;33m,\u001b[0m \u001b[1;36m300\u001b[0m\u001b[1;33m)\u001b[0m\u001b[1;33m\u001b[0m\u001b[1;33m\u001b[0m\u001b[0m\n\u001b[0m",
      "\u001b[1;32m<ipython-input-19-5902a8173626>\u001b[0m in \u001b[0;36mfit\u001b[1;34m(model, epochs)\u001b[0m\n\u001b[0;32m      1\u001b[0m \u001b[1;32mdef\u001b[0m \u001b[0mfit\u001b[0m\u001b[1;33m(\u001b[0m\u001b[0mmodel\u001b[0m\u001b[1;33m,\u001b[0m \u001b[0mepochs\u001b[0m\u001b[1;33m)\u001b[0m\u001b[1;33m:\u001b[0m\u001b[1;33m\u001b[0m\u001b[1;33m\u001b[0m\u001b[0m\n\u001b[1;32m----> 2\u001b[1;33m     \u001b[0mhistory\u001b[0m \u001b[1;33m=\u001b[0m \u001b[0mmodel\u001b[0m\u001b[1;33m.\u001b[0m\u001b[0mfit\u001b[0m\u001b[1;33m(\u001b[0m\u001b[0mx_train\u001b[0m\u001b[1;33m,\u001b[0m \u001b[0my_train\u001b[0m\u001b[1;33m,\u001b[0m \u001b[0mvalidation_data\u001b[0m \u001b[1;33m=\u001b[0m \u001b[1;33m(\u001b[0m\u001b[0mx_test\u001b[0m\u001b[1;33m,\u001b[0m\u001b[0my_test\u001b[0m\u001b[1;33m)\u001b[0m\u001b[1;33m,\u001b[0m \u001b[0mepochs\u001b[0m\u001b[1;33m=\u001b[0m\u001b[0mepochs\u001b[0m\u001b[1;33m,\u001b[0m \u001b[0mverbose\u001b[0m \u001b[1;33m=\u001b[0m \u001b[1;36m1\u001b[0m\u001b[1;33m)\u001b[0m\u001b[1;33m\u001b[0m\u001b[1;33m\u001b[0m\u001b[0m\n\u001b[0m\u001b[0;32m      3\u001b[0m     \u001b[1;32mreturn\u001b[0m \u001b[0mhistory\u001b[0m\u001b[1;33m\u001b[0m\u001b[1;33m\u001b[0m\u001b[0m\n",
      "\u001b[1;32m~\\AppData\\Roaming\\Python\\Python37\\site-packages\\tensorflow\\python\\keras\\engine\\training.py\u001b[0m in \u001b[0;36m_method_wrapper\u001b[1;34m(self, *args, **kwargs)\u001b[0m\n\u001b[0;32m    106\u001b[0m   \u001b[1;32mdef\u001b[0m \u001b[0m_method_wrapper\u001b[0m\u001b[1;33m(\u001b[0m\u001b[0mself\u001b[0m\u001b[1;33m,\u001b[0m \u001b[1;33m*\u001b[0m\u001b[0margs\u001b[0m\u001b[1;33m,\u001b[0m \u001b[1;33m**\u001b[0m\u001b[0mkwargs\u001b[0m\u001b[1;33m)\u001b[0m\u001b[1;33m:\u001b[0m\u001b[1;33m\u001b[0m\u001b[1;33m\u001b[0m\u001b[0m\n\u001b[0;32m    107\u001b[0m     \u001b[1;32mif\u001b[0m \u001b[1;32mnot\u001b[0m \u001b[0mself\u001b[0m\u001b[1;33m.\u001b[0m\u001b[0m_in_multi_worker_mode\u001b[0m\u001b[1;33m(\u001b[0m\u001b[1;33m)\u001b[0m\u001b[1;33m:\u001b[0m  \u001b[1;31m# pylint: disable=protected-access\u001b[0m\u001b[1;33m\u001b[0m\u001b[1;33m\u001b[0m\u001b[0m\n\u001b[1;32m--> 108\u001b[1;33m       \u001b[1;32mreturn\u001b[0m \u001b[0mmethod\u001b[0m\u001b[1;33m(\u001b[0m\u001b[0mself\u001b[0m\u001b[1;33m,\u001b[0m \u001b[1;33m*\u001b[0m\u001b[0margs\u001b[0m\u001b[1;33m,\u001b[0m \u001b[1;33m**\u001b[0m\u001b[0mkwargs\u001b[0m\u001b[1;33m)\u001b[0m\u001b[1;33m\u001b[0m\u001b[1;33m\u001b[0m\u001b[0m\n\u001b[0m\u001b[0;32m    109\u001b[0m \u001b[1;33m\u001b[0m\u001b[0m\n\u001b[0;32m    110\u001b[0m     \u001b[1;31m# Running inside `run_distribute_coordinator` already.\u001b[0m\u001b[1;33m\u001b[0m\u001b[1;33m\u001b[0m\u001b[1;33m\u001b[0m\u001b[0m\n",
      "\u001b[1;32m~\\AppData\\Roaming\\Python\\Python37\\site-packages\\tensorflow\\python\\keras\\engine\\training.py\u001b[0m in \u001b[0;36mfit\u001b[1;34m(self, x, y, batch_size, epochs, verbose, callbacks, validation_split, validation_data, shuffle, class_weight, sample_weight, initial_epoch, steps_per_epoch, validation_steps, validation_batch_size, validation_freq, max_queue_size, workers, use_multiprocessing)\u001b[0m\n\u001b[0;32m   1101\u001b[0m               \u001b[0mlogs\u001b[0m \u001b[1;33m=\u001b[0m \u001b[0mtmp_logs\u001b[0m  \u001b[1;31m# No error, now safe to assign to logs.\u001b[0m\u001b[1;33m\u001b[0m\u001b[1;33m\u001b[0m\u001b[0m\n\u001b[0;32m   1102\u001b[0m               \u001b[0mend_step\u001b[0m \u001b[1;33m=\u001b[0m \u001b[0mstep\u001b[0m \u001b[1;33m+\u001b[0m \u001b[0mdata_handler\u001b[0m\u001b[1;33m.\u001b[0m\u001b[0mstep_increment\u001b[0m\u001b[1;33m\u001b[0m\u001b[1;33m\u001b[0m\u001b[0m\n\u001b[1;32m-> 1103\u001b[1;33m               \u001b[0mcallbacks\u001b[0m\u001b[1;33m.\u001b[0m\u001b[0mon_train_batch_end\u001b[0m\u001b[1;33m(\u001b[0m\u001b[0mend_step\u001b[0m\u001b[1;33m,\u001b[0m \u001b[0mlogs\u001b[0m\u001b[1;33m)\u001b[0m\u001b[1;33m\u001b[0m\u001b[1;33m\u001b[0m\u001b[0m\n\u001b[0m\u001b[0;32m   1104\u001b[0m         \u001b[0mepoch_logs\u001b[0m \u001b[1;33m=\u001b[0m \u001b[0mcopy\u001b[0m\u001b[1;33m.\u001b[0m\u001b[0mcopy\u001b[0m\u001b[1;33m(\u001b[0m\u001b[0mlogs\u001b[0m\u001b[1;33m)\u001b[0m\u001b[1;33m\u001b[0m\u001b[1;33m\u001b[0m\u001b[0m\n\u001b[0;32m   1105\u001b[0m \u001b[1;33m\u001b[0m\u001b[0m\n",
      "\u001b[1;32m~\\AppData\\Roaming\\Python\\Python37\\site-packages\\tensorflow\\python\\keras\\callbacks.py\u001b[0m in \u001b[0;36mon_train_batch_end\u001b[1;34m(self, batch, logs)\u001b[0m\n\u001b[0;32m    438\u001b[0m     \"\"\"\n\u001b[0;32m    439\u001b[0m     \u001b[1;32mif\u001b[0m \u001b[0mself\u001b[0m\u001b[1;33m.\u001b[0m\u001b[0m_should_call_train_batch_hooks\u001b[0m\u001b[1;33m:\u001b[0m\u001b[1;33m\u001b[0m\u001b[1;33m\u001b[0m\u001b[0m\n\u001b[1;32m--> 440\u001b[1;33m       \u001b[0mself\u001b[0m\u001b[1;33m.\u001b[0m\u001b[0m_call_batch_hook\u001b[0m\u001b[1;33m(\u001b[0m\u001b[0mModeKeys\u001b[0m\u001b[1;33m.\u001b[0m\u001b[0mTRAIN\u001b[0m\u001b[1;33m,\u001b[0m \u001b[1;34m'end'\u001b[0m\u001b[1;33m,\u001b[0m \u001b[0mbatch\u001b[0m\u001b[1;33m,\u001b[0m \u001b[0mlogs\u001b[0m\u001b[1;33m=\u001b[0m\u001b[0mlogs\u001b[0m\u001b[1;33m)\u001b[0m\u001b[1;33m\u001b[0m\u001b[1;33m\u001b[0m\u001b[0m\n\u001b[0m\u001b[0;32m    441\u001b[0m \u001b[1;33m\u001b[0m\u001b[0m\n\u001b[0;32m    442\u001b[0m   \u001b[1;32mdef\u001b[0m \u001b[0mon_test_batch_begin\u001b[0m\u001b[1;33m(\u001b[0m\u001b[0mself\u001b[0m\u001b[1;33m,\u001b[0m \u001b[0mbatch\u001b[0m\u001b[1;33m,\u001b[0m \u001b[0mlogs\u001b[0m\u001b[1;33m=\u001b[0m\u001b[1;32mNone\u001b[0m\u001b[1;33m)\u001b[0m\u001b[1;33m:\u001b[0m\u001b[1;33m\u001b[0m\u001b[1;33m\u001b[0m\u001b[0m\n",
      "\u001b[1;32m~\\AppData\\Roaming\\Python\\Python37\\site-packages\\tensorflow\\python\\keras\\callbacks.py\u001b[0m in \u001b[0;36m_call_batch_hook\u001b[1;34m(self, mode, hook, batch, logs)\u001b[0m\n\u001b[0;32m    287\u001b[0m       \u001b[0mself\u001b[0m\u001b[1;33m.\u001b[0m\u001b[0m_call_batch_begin_hook\u001b[0m\u001b[1;33m(\u001b[0m\u001b[0mmode\u001b[0m\u001b[1;33m,\u001b[0m \u001b[0mbatch\u001b[0m\u001b[1;33m,\u001b[0m \u001b[0mlogs\u001b[0m\u001b[1;33m)\u001b[0m\u001b[1;33m\u001b[0m\u001b[1;33m\u001b[0m\u001b[0m\n\u001b[0;32m    288\u001b[0m     \u001b[1;32melif\u001b[0m \u001b[0mhook\u001b[0m \u001b[1;33m==\u001b[0m \u001b[1;34m'end'\u001b[0m\u001b[1;33m:\u001b[0m\u001b[1;33m\u001b[0m\u001b[1;33m\u001b[0m\u001b[0m\n\u001b[1;32m--> 289\u001b[1;33m       \u001b[0mself\u001b[0m\u001b[1;33m.\u001b[0m\u001b[0m_call_batch_end_hook\u001b[0m\u001b[1;33m(\u001b[0m\u001b[0mmode\u001b[0m\u001b[1;33m,\u001b[0m \u001b[0mbatch\u001b[0m\u001b[1;33m,\u001b[0m \u001b[0mlogs\u001b[0m\u001b[1;33m)\u001b[0m\u001b[1;33m\u001b[0m\u001b[1;33m\u001b[0m\u001b[0m\n\u001b[0m\u001b[0;32m    290\u001b[0m     \u001b[1;32melse\u001b[0m\u001b[1;33m:\u001b[0m\u001b[1;33m\u001b[0m\u001b[1;33m\u001b[0m\u001b[0m\n\u001b[0;32m    291\u001b[0m       \u001b[1;32mraise\u001b[0m \u001b[0mValueError\u001b[0m\u001b[1;33m(\u001b[0m\u001b[1;34m'Unrecognized hook: {}'\u001b[0m\u001b[1;33m.\u001b[0m\u001b[0mformat\u001b[0m\u001b[1;33m(\u001b[0m\u001b[0mhook\u001b[0m\u001b[1;33m)\u001b[0m\u001b[1;33m)\u001b[0m\u001b[1;33m\u001b[0m\u001b[1;33m\u001b[0m\u001b[0m\n",
      "\u001b[1;32m~\\AppData\\Roaming\\Python\\Python37\\site-packages\\tensorflow\\python\\keras\\callbacks.py\u001b[0m in \u001b[0;36m_call_batch_end_hook\u001b[1;34m(self, mode, batch, logs)\u001b[0m\n\u001b[0;32m    307\u001b[0m       \u001b[0mbatch_time\u001b[0m \u001b[1;33m=\u001b[0m \u001b[0mtime\u001b[0m\u001b[1;33m.\u001b[0m\u001b[0mtime\u001b[0m\u001b[1;33m(\u001b[0m\u001b[1;33m)\u001b[0m \u001b[1;33m-\u001b[0m \u001b[0mself\u001b[0m\u001b[1;33m.\u001b[0m\u001b[0m_batch_start_time\u001b[0m\u001b[1;33m\u001b[0m\u001b[1;33m\u001b[0m\u001b[0m\n\u001b[0;32m    308\u001b[0m \u001b[1;33m\u001b[0m\u001b[0m\n\u001b[1;32m--> 309\u001b[1;33m     \u001b[0mself\u001b[0m\u001b[1;33m.\u001b[0m\u001b[0m_call_batch_hook_helper\u001b[0m\u001b[1;33m(\u001b[0m\u001b[0mhook_name\u001b[0m\u001b[1;33m,\u001b[0m \u001b[0mbatch\u001b[0m\u001b[1;33m,\u001b[0m \u001b[0mlogs\u001b[0m\u001b[1;33m)\u001b[0m\u001b[1;33m\u001b[0m\u001b[1;33m\u001b[0m\u001b[0m\n\u001b[0m\u001b[0;32m    310\u001b[0m \u001b[1;33m\u001b[0m\u001b[0m\n\u001b[0;32m    311\u001b[0m     \u001b[1;32mif\u001b[0m \u001b[0mself\u001b[0m\u001b[1;33m.\u001b[0m\u001b[0m_check_timing\u001b[0m\u001b[1;33m:\u001b[0m\u001b[1;33m\u001b[0m\u001b[1;33m\u001b[0m\u001b[0m\n",
      "\u001b[1;32m~\\AppData\\Roaming\\Python\\Python37\\site-packages\\tensorflow\\python\\keras\\callbacks.py\u001b[0m in \u001b[0;36m_call_batch_hook_helper\u001b[1;34m(self, hook_name, batch, logs)\u001b[0m\n\u001b[0;32m    340\u001b[0m       \u001b[0mhook\u001b[0m \u001b[1;33m=\u001b[0m \u001b[0mgetattr\u001b[0m\u001b[1;33m(\u001b[0m\u001b[0mcallback\u001b[0m\u001b[1;33m,\u001b[0m \u001b[0mhook_name\u001b[0m\u001b[1;33m)\u001b[0m\u001b[1;33m\u001b[0m\u001b[1;33m\u001b[0m\u001b[0m\n\u001b[0;32m    341\u001b[0m       \u001b[1;32mif\u001b[0m \u001b[0mgetattr\u001b[0m\u001b[1;33m(\u001b[0m\u001b[0mcallback\u001b[0m\u001b[1;33m,\u001b[0m \u001b[1;34m'_supports_tf_logs'\u001b[0m\u001b[1;33m,\u001b[0m \u001b[1;32mFalse\u001b[0m\u001b[1;33m)\u001b[0m\u001b[1;33m:\u001b[0m\u001b[1;33m\u001b[0m\u001b[1;33m\u001b[0m\u001b[0m\n\u001b[1;32m--> 342\u001b[1;33m         \u001b[0mhook\u001b[0m\u001b[1;33m(\u001b[0m\u001b[0mbatch\u001b[0m\u001b[1;33m,\u001b[0m \u001b[0mlogs\u001b[0m\u001b[1;33m)\u001b[0m\u001b[1;33m\u001b[0m\u001b[1;33m\u001b[0m\u001b[0m\n\u001b[0m\u001b[0;32m    343\u001b[0m       \u001b[1;32melse\u001b[0m\u001b[1;33m:\u001b[0m\u001b[1;33m\u001b[0m\u001b[1;33m\u001b[0m\u001b[0m\n\u001b[0;32m    344\u001b[0m         \u001b[1;32mif\u001b[0m \u001b[0mnumpy_logs\u001b[0m \u001b[1;32mis\u001b[0m \u001b[1;32mNone\u001b[0m\u001b[1;33m:\u001b[0m  \u001b[1;31m# Only convert once.\u001b[0m\u001b[1;33m\u001b[0m\u001b[1;33m\u001b[0m\u001b[0m\n",
      "\u001b[1;32m~\\AppData\\Roaming\\Python\\Python37\\site-packages\\tensorflow\\python\\keras\\callbacks.py\u001b[0m in \u001b[0;36mon_train_batch_end\u001b[1;34m(self, batch, logs)\u001b[0m\n\u001b[0;32m    959\u001b[0m \u001b[1;33m\u001b[0m\u001b[0m\n\u001b[0;32m    960\u001b[0m   \u001b[1;32mdef\u001b[0m \u001b[0mon_train_batch_end\u001b[0m\u001b[1;33m(\u001b[0m\u001b[0mself\u001b[0m\u001b[1;33m,\u001b[0m \u001b[0mbatch\u001b[0m\u001b[1;33m,\u001b[0m \u001b[0mlogs\u001b[0m\u001b[1;33m=\u001b[0m\u001b[1;32mNone\u001b[0m\u001b[1;33m)\u001b[0m\u001b[1;33m:\u001b[0m\u001b[1;33m\u001b[0m\u001b[1;33m\u001b[0m\u001b[0m\n\u001b[1;32m--> 961\u001b[1;33m     \u001b[0mself\u001b[0m\u001b[1;33m.\u001b[0m\u001b[0m_batch_update_progbar\u001b[0m\u001b[1;33m(\u001b[0m\u001b[0mbatch\u001b[0m\u001b[1;33m,\u001b[0m \u001b[0mlogs\u001b[0m\u001b[1;33m)\u001b[0m\u001b[1;33m\u001b[0m\u001b[1;33m\u001b[0m\u001b[0m\n\u001b[0m\u001b[0;32m    962\u001b[0m \u001b[1;33m\u001b[0m\u001b[0m\n\u001b[0;32m    963\u001b[0m   \u001b[1;32mdef\u001b[0m \u001b[0mon_test_batch_end\u001b[0m\u001b[1;33m(\u001b[0m\u001b[0mself\u001b[0m\u001b[1;33m,\u001b[0m \u001b[0mbatch\u001b[0m\u001b[1;33m,\u001b[0m \u001b[0mlogs\u001b[0m\u001b[1;33m=\u001b[0m\u001b[1;32mNone\u001b[0m\u001b[1;33m)\u001b[0m\u001b[1;33m:\u001b[0m\u001b[1;33m\u001b[0m\u001b[1;33m\u001b[0m\u001b[0m\n",
      "\u001b[1;32m~\\AppData\\Roaming\\Python\\Python37\\site-packages\\tensorflow\\python\\keras\\callbacks.py\u001b[0m in \u001b[0;36m_batch_update_progbar\u001b[1;34m(self, batch, logs)\u001b[0m\n\u001b[0;32m   1014\u001b[0m     \u001b[1;32mif\u001b[0m \u001b[0mself\u001b[0m\u001b[1;33m.\u001b[0m\u001b[0mverbose\u001b[0m \u001b[1;33m==\u001b[0m \u001b[1;36m1\u001b[0m\u001b[1;33m:\u001b[0m\u001b[1;33m\u001b[0m\u001b[1;33m\u001b[0m\u001b[0m\n\u001b[0;32m   1015\u001b[0m       \u001b[1;31m# Only block async when verbose = 1.\u001b[0m\u001b[1;33m\u001b[0m\u001b[1;33m\u001b[0m\u001b[1;33m\u001b[0m\u001b[0m\n\u001b[1;32m-> 1016\u001b[1;33m       \u001b[0mlogs\u001b[0m \u001b[1;33m=\u001b[0m \u001b[0mtf_utils\u001b[0m\u001b[1;33m.\u001b[0m\u001b[0mto_numpy_or_python_type\u001b[0m\u001b[1;33m(\u001b[0m\u001b[0mlogs\u001b[0m\u001b[1;33m)\u001b[0m\u001b[1;33m\u001b[0m\u001b[1;33m\u001b[0m\u001b[0m\n\u001b[0m\u001b[0;32m   1017\u001b[0m       \u001b[0mself\u001b[0m\u001b[1;33m.\u001b[0m\u001b[0mprogbar\u001b[0m\u001b[1;33m.\u001b[0m\u001b[0mupdate\u001b[0m\u001b[1;33m(\u001b[0m\u001b[0mself\u001b[0m\u001b[1;33m.\u001b[0m\u001b[0mseen\u001b[0m\u001b[1;33m,\u001b[0m \u001b[0mlist\u001b[0m\u001b[1;33m(\u001b[0m\u001b[0mlogs\u001b[0m\u001b[1;33m.\u001b[0m\u001b[0mitems\u001b[0m\u001b[1;33m(\u001b[0m\u001b[1;33m)\u001b[0m\u001b[1;33m)\u001b[0m\u001b[1;33m,\u001b[0m \u001b[0mfinalize\u001b[0m\u001b[1;33m=\u001b[0m\u001b[1;32mFalse\u001b[0m\u001b[1;33m)\u001b[0m\u001b[1;33m\u001b[0m\u001b[1;33m\u001b[0m\u001b[0m\n\u001b[0;32m   1018\u001b[0m \u001b[1;33m\u001b[0m\u001b[0m\n",
      "\u001b[1;32m~\\AppData\\Roaming\\Python\\Python37\\site-packages\\tensorflow\\python\\keras\\utils\\tf_utils.py\u001b[0m in \u001b[0;36mto_numpy_or_python_type\u001b[1;34m(tensors)\u001b[0m\n\u001b[0;32m    535\u001b[0m     \u001b[1;32mreturn\u001b[0m \u001b[0mt\u001b[0m  \u001b[1;31m# Don't turn ragged or sparse tensors to NumPy.\u001b[0m\u001b[1;33m\u001b[0m\u001b[1;33m\u001b[0m\u001b[0m\n\u001b[0;32m    536\u001b[0m \u001b[1;33m\u001b[0m\u001b[0m\n\u001b[1;32m--> 537\u001b[1;33m   \u001b[1;32mreturn\u001b[0m \u001b[0mnest\u001b[0m\u001b[1;33m.\u001b[0m\u001b[0mmap_structure\u001b[0m\u001b[1;33m(\u001b[0m\u001b[0m_to_single_numpy_or_python_type\u001b[0m\u001b[1;33m,\u001b[0m \u001b[0mtensors\u001b[0m\u001b[1;33m)\u001b[0m\u001b[1;33m\u001b[0m\u001b[1;33m\u001b[0m\u001b[0m\n\u001b[0m\u001b[0;32m    538\u001b[0m \u001b[1;33m\u001b[0m\u001b[0m\n\u001b[0;32m    539\u001b[0m \u001b[1;33m\u001b[0m\u001b[0m\n",
      "\u001b[1;32m~\\AppData\\Roaming\\Python\\Python37\\site-packages\\tensorflow\\python\\util\\nest.py\u001b[0m in \u001b[0;36mmap_structure\u001b[1;34m(func, *structure, **kwargs)\u001b[0m\n\u001b[0;32m    633\u001b[0m \u001b[1;33m\u001b[0m\u001b[0m\n\u001b[0;32m    634\u001b[0m   return pack_sequence_as(\n\u001b[1;32m--> 635\u001b[1;33m       \u001b[0mstructure\u001b[0m\u001b[1;33m[\u001b[0m\u001b[1;36m0\u001b[0m\u001b[1;33m]\u001b[0m\u001b[1;33m,\u001b[0m \u001b[1;33m[\u001b[0m\u001b[0mfunc\u001b[0m\u001b[1;33m(\u001b[0m\u001b[1;33m*\u001b[0m\u001b[0mx\u001b[0m\u001b[1;33m)\u001b[0m \u001b[1;32mfor\u001b[0m \u001b[0mx\u001b[0m \u001b[1;32min\u001b[0m \u001b[0mentries\u001b[0m\u001b[1;33m]\u001b[0m\u001b[1;33m,\u001b[0m\u001b[1;33m\u001b[0m\u001b[1;33m\u001b[0m\u001b[0m\n\u001b[0m\u001b[0;32m    636\u001b[0m       expand_composites=expand_composites)\n\u001b[0;32m    637\u001b[0m \u001b[1;33m\u001b[0m\u001b[0m\n",
      "\u001b[1;32m~\\AppData\\Roaming\\Python\\Python37\\site-packages\\tensorflow\\python\\util\\nest.py\u001b[0m in \u001b[0;36m<listcomp>\u001b[1;34m(.0)\u001b[0m\n\u001b[0;32m    633\u001b[0m \u001b[1;33m\u001b[0m\u001b[0m\n\u001b[0;32m    634\u001b[0m   return pack_sequence_as(\n\u001b[1;32m--> 635\u001b[1;33m       \u001b[0mstructure\u001b[0m\u001b[1;33m[\u001b[0m\u001b[1;36m0\u001b[0m\u001b[1;33m]\u001b[0m\u001b[1;33m,\u001b[0m \u001b[1;33m[\u001b[0m\u001b[0mfunc\u001b[0m\u001b[1;33m(\u001b[0m\u001b[1;33m*\u001b[0m\u001b[0mx\u001b[0m\u001b[1;33m)\u001b[0m \u001b[1;32mfor\u001b[0m \u001b[0mx\u001b[0m \u001b[1;32min\u001b[0m \u001b[0mentries\u001b[0m\u001b[1;33m]\u001b[0m\u001b[1;33m,\u001b[0m\u001b[1;33m\u001b[0m\u001b[1;33m\u001b[0m\u001b[0m\n\u001b[0m\u001b[0;32m    636\u001b[0m       expand_composites=expand_composites)\n\u001b[0;32m    637\u001b[0m \u001b[1;33m\u001b[0m\u001b[0m\n",
      "\u001b[1;32m~\\AppData\\Roaming\\Python\\Python37\\site-packages\\tensorflow\\python\\keras\\utils\\tf_utils.py\u001b[0m in \u001b[0;36m_to_single_numpy_or_python_type\u001b[1;34m(t)\u001b[0m\n\u001b[0;32m    531\u001b[0m   \u001b[1;32mdef\u001b[0m \u001b[0m_to_single_numpy_or_python_type\u001b[0m\u001b[1;33m(\u001b[0m\u001b[0mt\u001b[0m\u001b[1;33m)\u001b[0m\u001b[1;33m:\u001b[0m\u001b[1;33m\u001b[0m\u001b[1;33m\u001b[0m\u001b[0m\n\u001b[0;32m    532\u001b[0m     \u001b[1;32mif\u001b[0m \u001b[0misinstance\u001b[0m\u001b[1;33m(\u001b[0m\u001b[0mt\u001b[0m\u001b[1;33m,\u001b[0m \u001b[0mops\u001b[0m\u001b[1;33m.\u001b[0m\u001b[0mTensor\u001b[0m\u001b[1;33m)\u001b[0m\u001b[1;33m:\u001b[0m\u001b[1;33m\u001b[0m\u001b[1;33m\u001b[0m\u001b[0m\n\u001b[1;32m--> 533\u001b[1;33m       \u001b[0mx\u001b[0m \u001b[1;33m=\u001b[0m \u001b[0mt\u001b[0m\u001b[1;33m.\u001b[0m\u001b[0mnumpy\u001b[0m\u001b[1;33m(\u001b[0m\u001b[1;33m)\u001b[0m\u001b[1;33m\u001b[0m\u001b[1;33m\u001b[0m\u001b[0m\n\u001b[0m\u001b[0;32m    534\u001b[0m       \u001b[1;32mreturn\u001b[0m \u001b[0mx\u001b[0m\u001b[1;33m.\u001b[0m\u001b[0mitem\u001b[0m\u001b[1;33m(\u001b[0m\u001b[1;33m)\u001b[0m \u001b[1;32mif\u001b[0m \u001b[0mnp\u001b[0m\u001b[1;33m.\u001b[0m\u001b[0mndim\u001b[0m\u001b[1;33m(\u001b[0m\u001b[0mx\u001b[0m\u001b[1;33m)\u001b[0m \u001b[1;33m==\u001b[0m \u001b[1;36m0\u001b[0m \u001b[1;32melse\u001b[0m \u001b[0mx\u001b[0m\u001b[1;33m\u001b[0m\u001b[1;33m\u001b[0m\u001b[0m\n\u001b[0;32m    535\u001b[0m     \u001b[1;32mreturn\u001b[0m \u001b[0mt\u001b[0m  \u001b[1;31m# Don't turn ragged or sparse tensors to NumPy.\u001b[0m\u001b[1;33m\u001b[0m\u001b[1;33m\u001b[0m\u001b[0m\n",
      "\u001b[1;32m~\\AppData\\Roaming\\Python\\Python37\\site-packages\\tensorflow\\python\\framework\\ops.py\u001b[0m in \u001b[0;36mnumpy\u001b[1;34m(self)\u001b[0m\n\u001b[0;32m   1061\u001b[0m     \"\"\"\n\u001b[0;32m   1062\u001b[0m     \u001b[1;31m# TODO(slebedev): Consider avoiding a copy for non-CPU or remote tensors.\u001b[0m\u001b[1;33m\u001b[0m\u001b[1;33m\u001b[0m\u001b[1;33m\u001b[0m\u001b[0m\n\u001b[1;32m-> 1063\u001b[1;33m     \u001b[0mmaybe_arr\u001b[0m \u001b[1;33m=\u001b[0m \u001b[0mself\u001b[0m\u001b[1;33m.\u001b[0m\u001b[0m_numpy\u001b[0m\u001b[1;33m(\u001b[0m\u001b[1;33m)\u001b[0m  \u001b[1;31m# pylint: disable=protected-access\u001b[0m\u001b[1;33m\u001b[0m\u001b[1;33m\u001b[0m\u001b[0m\n\u001b[0m\u001b[0;32m   1064\u001b[0m     \u001b[1;32mreturn\u001b[0m \u001b[0mmaybe_arr\u001b[0m\u001b[1;33m.\u001b[0m\u001b[0mcopy\u001b[0m\u001b[1;33m(\u001b[0m\u001b[1;33m)\u001b[0m \u001b[1;32mif\u001b[0m \u001b[0misinstance\u001b[0m\u001b[1;33m(\u001b[0m\u001b[0mmaybe_arr\u001b[0m\u001b[1;33m,\u001b[0m \u001b[0mnp\u001b[0m\u001b[1;33m.\u001b[0m\u001b[0mndarray\u001b[0m\u001b[1;33m)\u001b[0m \u001b[1;32melse\u001b[0m \u001b[0mmaybe_arr\u001b[0m\u001b[1;33m\u001b[0m\u001b[1;33m\u001b[0m\u001b[0m\n\u001b[0;32m   1065\u001b[0m \u001b[1;33m\u001b[0m\u001b[0m\n",
      "\u001b[1;32m~\\AppData\\Roaming\\Python\\Python37\\site-packages\\tensorflow\\python\\framework\\ops.py\u001b[0m in \u001b[0;36m_numpy\u001b[1;34m(self)\u001b[0m\n\u001b[0;32m   1027\u001b[0m   \u001b[1;32mdef\u001b[0m \u001b[0m_numpy\u001b[0m\u001b[1;33m(\u001b[0m\u001b[0mself\u001b[0m\u001b[1;33m)\u001b[0m\u001b[1;33m:\u001b[0m\u001b[1;33m\u001b[0m\u001b[1;33m\u001b[0m\u001b[0m\n\u001b[0;32m   1028\u001b[0m     \u001b[1;32mtry\u001b[0m\u001b[1;33m:\u001b[0m\u001b[1;33m\u001b[0m\u001b[1;33m\u001b[0m\u001b[0m\n\u001b[1;32m-> 1029\u001b[1;33m       \u001b[1;32mreturn\u001b[0m \u001b[0mself\u001b[0m\u001b[1;33m.\u001b[0m\u001b[0m_numpy_internal\u001b[0m\u001b[1;33m(\u001b[0m\u001b[1;33m)\u001b[0m\u001b[1;33m\u001b[0m\u001b[1;33m\u001b[0m\u001b[0m\n\u001b[0m\u001b[0;32m   1030\u001b[0m     \u001b[1;32mexcept\u001b[0m \u001b[0mcore\u001b[0m\u001b[1;33m.\u001b[0m\u001b[0m_NotOkStatusException\u001b[0m \u001b[1;32mas\u001b[0m \u001b[0me\u001b[0m\u001b[1;33m:\u001b[0m  \u001b[1;31m# pylint: disable=protected-access\u001b[0m\u001b[1;33m\u001b[0m\u001b[1;33m\u001b[0m\u001b[0m\n\u001b[0;32m   1031\u001b[0m       \u001b[0msix\u001b[0m\u001b[1;33m.\u001b[0m\u001b[0mraise_from\u001b[0m\u001b[1;33m(\u001b[0m\u001b[0mcore\u001b[0m\u001b[1;33m.\u001b[0m\u001b[0m_status_to_exception\u001b[0m\u001b[1;33m(\u001b[0m\u001b[0me\u001b[0m\u001b[1;33m.\u001b[0m\u001b[0mcode\u001b[0m\u001b[1;33m,\u001b[0m \u001b[0me\u001b[0m\u001b[1;33m.\u001b[0m\u001b[0mmessage\u001b[0m\u001b[1;33m)\u001b[0m\u001b[1;33m,\u001b[0m \u001b[1;32mNone\u001b[0m\u001b[1;33m)\u001b[0m  \u001b[1;31m# pylint: disable=protected-access\u001b[0m\u001b[1;33m\u001b[0m\u001b[1;33m\u001b[0m\u001b[0m\n",
      "\u001b[1;31mKeyboardInterrupt\u001b[0m: "
     ]
    }
   ],
   "source": [
    "checkpoint_path = \"training_1/cp-{epoch:04d}.ckpt\".format(epoch = 300)\n",
    "model = build_model()\n",
    "history = fit(model, 300)"
   ]
  },
  {
   "cell_type": "code",
   "execution_count": null,
   "metadata": {},
   "outputs": [],
   "source": [
    "model.save('saved_model/my_model') "
   ]
  },
  {
   "cell_type": "code",
   "execution_count": null,
   "metadata": {
    "scrolled": true
   },
   "outputs": [],
   "source": [
    "plt.plot(history.history['accuracy'], label='accuracy')\n",
    "plt.plot(history.history['val_accuracy'], label = 'val_accuracy')\n",
    "plt.xlabel('Epoch')\n",
    "plt.ylabel('Accuracy')\n",
    "plt.ylim([0.5, 1])\n",
    "plt.legend(loc='lower right')\n",
    "plt.savefig(\"saved_accuracy.png\")\n",
    "test_loss, test_acc = model.evaluate(x_test,  y_test, verbose=2)"
   ]
  },
  {
   "cell_type": "code",
   "execution_count": null,
   "metadata": {},
   "outputs": [],
   "source": [
    "plt.plot(history.history['loss'], label = \"loss\")\n",
    "plt.plot(history.history['val_loss'], label = \"val_loss\")\n",
    "plt.xlabel('Epoch')\n",
    "plt.ylabel('Loss')\n",
    "plt.legend(loc='lower right')\n",
    "plt.savefig(\"saved_loss.png\")"
   ]
  },
  {
   "cell_type": "code",
   "execution_count": null,
   "metadata": {},
   "outputs": [],
   "source": [
    "output = model.predict(x_test[0:1000])\n",
    "model.predict(x_test[0:1])"
   ]
  },
  {
   "cell_type": "code",
   "execution_count": null,
   "metadata": {},
   "outputs": [],
   "source": [
    "class_names = np.unique(y_train)\n",
    "classes = ['c',\n",
    "  'down',\n",
    "  'fist',\n",
    "  'fistmoved',\n",
    "  'index',\n",
    "  'l',\n",
    "  'ok',\n",
    "  'palm',\n",
    "  'palmmoved',\n",
    "  'thumb']"
   ]
  },
  {
   "cell_type": "code",
   "execution_count": null,
   "metadata": {},
   "outputs": [],
   "source": [
    "plt.style.use('ggplot')\n",
    "plt.figure(figsize=(12,4))\n",
    "plt.bar(class_names, output[500])\n",
    "#plt.ylim(0, output[0].max())\n",
    "plt.show()"
   ]
  },
  {
   "cell_type": "code",
   "execution_count": null,
   "metadata": {},
   "outputs": [],
   "source": [
    "plt.imshow(x_test[500].reshape((120,320)))\n",
    "print(\"We predict: {}\".format(classes[np.argmax(output)]))\n",
    "print(\"True value: {}\".format(classes[y_test[500]]))"
   ]
  },
  {
   "cell_type": "code",
   "execution_count": null,
   "metadata": {},
   "outputs": [],
   "source": []
  }
 ],
 "metadata": {
  "kernelspec": {
   "display_name": "Python 3",
   "language": "python",
   "name": "python3"
  },
  "language_info": {
   "codemirror_mode": {
    "name": "ipython",
    "version": 3
   },
   "file_extension": ".py",
   "mimetype": "text/x-python",
   "name": "python",
   "nbconvert_exporter": "python",
   "pygments_lexer": "ipython3",
   "version": "3.7.1"
  }
 },
 "nbformat": 4,
 "nbformat_minor": 2
}
