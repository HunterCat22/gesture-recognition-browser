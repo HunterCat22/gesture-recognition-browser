{
 "cells": [
  {
   "cell_type": "markdown",
   "metadata": {},
   "source": [
    "### Web Browser Functions"
   ]
  },
  {
   "cell_type": "code",
   "execution_count": 1,
   "metadata": {},
   "outputs": [],
   "source": [
    "from selenium import webdriver\n",
    "from selenium.webdriver import ActionChains\n",
    "from selenium.webdriver.common.keys import Keys"
   ]
  },
  {
   "cell_type": "code",
   "execution_count": 2,
   "metadata": {},
   "outputs": [],
   "source": [
    "def navigation(driver, gesture_output):\n",
    "    \"\"\"\n",
    "    Input: \n",
    "    \"\"\"\n",
    "    if gesture_output == \"BACK\":\n",
    "        driver.back()\n",
    "        return 1\n",
    "    elif gesture_output == \"FORWARD\":\n",
    "        driver.forward()\n",
    "        return 1\n",
    "    elif gesture_output == \"STOP\":\n",
    "        # Close the window\n",
    "    ## elif gesture_output == \"MOUSE\":\n",
    "        # mouse_control()\n",
    "    \n",
    "    ## more options for gesturing\n",
    "        return 0\n",
    "    \n",
    "    \n",
    "driver= webdriver.Edge(\"msedgedriver.exe\")\n",
    "driver.maximize_window()\n",
    "driver.get(\"https://www.youtube.com\")"
   ]
  },
  {
   "cell_type": "markdown",
   "metadata": {},
   "source": [
    "## Possible Mouse functionality"
   ]
  },
  {
   "cell_type": "code",
   "execution_count": 50,
   "metadata": {},
   "outputs": [],
   "source": [
    "\"\"\"\n",
    "import pyautogui \n",
    " \n",
    "pyautogui.moveTo(1000, 1000, duration = 1)  \n",
    "  \n",
    "# moves mouse to 1000, 1000. \n",
    "pyautogui.dragRel(100, 0, duration = 1) \n",
    "  \n",
    "# drags mouse 100, 0 relative to its previous position,  \n",
    "# thus dragging it to 1100, 1000 \n",
    "pyautogui.dragRel(0, 100, duration = 1) \n",
    "pyautogui.dragRel(-100, 0, duration = 1) \n",
    "pyautogui.dragRel(0, -100, duration = 1) "
   ]
  },
  {
   "cell_type": "code",
   "execution_count": 3,
   "metadata": {},
   "outputs": [],
   "source": [
    "import numpy as np"
   ]
  },
  {
   "cell_type": "code",
   "execution_count": 5,
   "metadata": {},
   "outputs": [],
   "source": [
    "x = np.load(\"input.npy\")"
   ]
  },
  {
   "cell_type": "code",
   "execution_count": 6,
   "metadata": {},
   "outputs": [
    {
     "data": {
      "text/plain": [
       "(20000, 120, 320)"
      ]
     },
     "execution_count": 6,
     "metadata": {},
     "output_type": "execute_result"
    }
   ],
   "source": [
    "x.shape"
   ]
  },
  {
   "cell_type": "code",
   "execution_count": null,
   "metadata": {},
   "outputs": [],
   "source": []
  }
 ],
 "metadata": {
  "kernelspec": {
   "display_name": "Python 3",
   "language": "python",
   "name": "python3"
  },
  "language_info": {
   "codemirror_mode": {
    "name": "ipython",
    "version": 3
   },
   "file_extension": ".py",
   "mimetype": "text/x-python",
   "name": "python",
   "nbconvert_exporter": "python",
   "pygments_lexer": "ipython3",
   "version": "3.7.1"
  }
 },
 "nbformat": 4,
 "nbformat_minor": 2
}
